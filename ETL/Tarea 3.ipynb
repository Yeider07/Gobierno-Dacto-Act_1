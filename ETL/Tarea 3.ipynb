{
 "cells": [
  {
   "cell_type": "code",
   "execution_count": 16,
   "metadata": {},
   "outputs": [],
   "source": [
    "import pandas as pd                                                                                                                                         "
   ]
  },
  {
   "cell_type": "code",
   "execution_count": 17,
   "metadata": {},
   "outputs": [],
   "source": [
    "terrazas = pd.read_excel('Terrazas_Normalizadas.xlsx')\n",
    "licencias = pd.read_excel('Licencias_SinDuplicados.xlsx')\n"
   ]
  },
  {
   "cell_type": "code",
   "execution_count": 18,
   "metadata": {},
   "outputs": [],
   "source": [
    "licencias_terrazas_integradas = pd.merge(terrazas, licencias, on='id_local', how='inner')\n"
   ]
  },
  {
   "cell_type": "code",
   "execution_count": 21,
   "metadata": {},
   "outputs": [
    {
     "ename": "",
     "evalue": "",
     "output_type": "error",
     "traceback": [
      "\u001b[1;31mEl kernel se bloqueó al ejecutar código en la celda actual o en una celda anterior. \n",
      "\u001b[1;31mRevise el código de las celdas para identificar una posible causa del error. \n",
      "\u001b[1;31mHaga clic <a href='https://aka.ms/vscodeJupyterKernelCrash'>aquí</a> para obtener más información. \n",
      "\u001b[1;31mVea Jupyter <a href='command:jupyter.viewOutput'>log</a> para obtener más detalles."
     ]
    }
   ],
   "source": [
    "# Guardar archivo\n",
    "licencias_terrazas_integradas.to_excel('Licencias_Terrazas_Integradas.xlsx', index=False)\n",
    "licencias_terrazas_integradas.to_csv('Licencias_Terrazas_Integradas.csv', index=False)"
   ]
  },
  {
   "cell_type": "code",
   "execution_count": 7,
   "metadata": {},
   "outputs": [
    {
     "data": {
      "text/plain": [
       "<bound method NDFrame.head of        Unnamed: 0_x  id_terraza   id_local  id_distrito_local_x  \\\n",
       "0                 0           7  280067128                   20   \n",
       "1                 1          33  270403150                    4   \n",
       "2                 2          34  270078567                    4   \n",
       "3                 2          34  270078567                    4   \n",
       "4                 3          36   40002021                    4   \n",
       "...             ...         ...        ...                  ...   \n",
       "13505          6271       18669  270404971                    5   \n",
       "13506          6272       18670   50000979                    5   \n",
       "13507          6272       18670   50000979                    5   \n",
       "13508          6273       18671  270326669                    5   \n",
       "13509          6274       18672  270243087                    3   \n",
       "\n",
       "      desc_distrito_local_x  id_barrio_local_x   desc_barrio_local_x  \\\n",
       "0      SAN BLAS-CANILLEJAS                2005  ROSAS                  \n",
       "1      SALAMANCA                           404  GUINDALERA             \n",
       "2      SALAMANCA                           404  GUINDALERA             \n",
       "3      SALAMANCA                           404  GUINDALERA             \n",
       "4      SALAMANCA                           404  GUINDALERA             \n",
       "...                     ...                ...                   ...   \n",
       "13505  CHAMARTIN                           503  CIUDAD JARDIN          \n",
       "13506  CHAMARTIN                           501  EL VISO                \n",
       "13507  CHAMARTIN                           501  EL VISO                \n",
       "13508  CHAMARTIN                           503  CIUDAD JARDIN          \n",
       "13509  RETIRO                              301  PACIFICO               \n",
       "\n",
       "       id_ndp_edificio_x  id_vial_edificio_x     clase_vial_edificio_x  ...  \\\n",
       "0               20157611                2443  CALLE                     ...   \n",
       "1               11018870               42500  AVENIDA                   ...   \n",
       "2               11018555               35200  CALLE                     ...   \n",
       "3               11018555               35200  CALLE                     ...   \n",
       "4               11018545               10100  CALLE                     ...   \n",
       "...                  ...                 ...                       ...  ...   \n",
       "13505           11024010              790000  CALLE                     ...   \n",
       "13506           11021035              706600  CALLE                     ...   \n",
       "13507           11021035              706600  CALLE                     ...   \n",
       "13508           11023804              293400  CALLE                     ...   \n",
       "13509           11010860              158900  CALLE                     ...   \n",
       "\n",
       "      id_tipo_agrup  desc_tipo_agrup  id_planta_agrupado_y  \\\n",
       "0                -1   SIN AGRUPACION                    PB   \n",
       "1                -1   SIN AGRUPACION                    PB   \n",
       "2                -1   SIN AGRUPACION                    PB   \n",
       "3                -1   SIN AGRUPACION                    PB   \n",
       "4                -1   SIN AGRUPACION                    PB   \n",
       "...             ...              ...                   ...   \n",
       "13505            -1   SIN AGRUPACION                    PB   \n",
       "13506            -1   SIN AGRUPACION                    PB   \n",
       "13507            -1   SIN AGRUPACION                    PB   \n",
       "13508            -1   SIN AGRUPACION                    PB   \n",
       "13509            -1   SIN AGRUPACION                    PB   \n",
       "\n",
       "                         rotulo_y    ref_licencia  id_tipo_licencia  \\\n",
       "0                              SR  500/2016/10929                 1   \n",
       "1                      HONTANARES  500/2019/11627                 1   \n",
       "2            BAR MARISQUERIA LUIS  500/2017/05234                 1   \n",
       "3            BAR MARISQUERIA LUIS  500/2018/06845                 1   \n",
       "4                           SAGAR  220/2012/03637                 4   \n",
       "...                           ...             ...               ...   \n",
       "13505          LA ESQUINA VINAROZ  350/2021/00119                 4   \n",
       "13506                 CAFÃ SEGRE  105/2003/05597                 2   \n",
       "13507                 CAFÃ SEGRE  220/2013/10752                 4   \n",
       "13508  RESTAURANTE LA PROSPERIDAD  500/2011/07503                 2   \n",
       "13509                   BAR LIDER  500/2014/07537                 1   \n",
       "\n",
       "                          desc_tipo_licencia  id_tipo_situacion_licencia  \\\n",
       "0                   DeclaraciÃ³n Responsable                           2   \n",
       "1                   DeclaraciÃ³n Responsable                           1   \n",
       "2                   DeclaraciÃ³n Responsable                           3   \n",
       "3                   DeclaraciÃ³n Responsable                           1   \n",
       "4      TransmisiÃ³n de licencia UrbanÃ­stica                           1   \n",
       "...                                      ...                         ...   \n",
       "13505  TransmisiÃ³n de licencia UrbanÃ­stica                           5   \n",
       "13506                  Licencia UrbanÃ­stica                           2   \n",
       "13507  TransmisiÃ³n de licencia UrbanÃ­stica                           1   \n",
       "13508                  Licencia UrbanÃ­stica                           3   \n",
       "13509               DeclaraciÃ³n Responsable                           2   \n",
       "\n",
       "             desc_tipo_situacion_licencia  Fecha_Dec_Lic  \n",
       "0                               Concedida     22/07/2016  \n",
       "1                         En tramitaciÃ³n     08/10/2019  \n",
       "2                                Denegada     18/03/2018  \n",
       "3                         En tramitaciÃ³n     14/06/2018  \n",
       "4                         En tramitaciÃ³n     12/03/2012  \n",
       "...                                   ...            ...  \n",
       "13505  TransmisiÃ³n de Licencia Concedida     01/01/1900  \n",
       "13506                           Concedida     07/05/2010  \n",
       "13507                     En tramitaciÃ³n     29/07/2013  \n",
       "13508                            Denegada     15/07/2015  \n",
       "13509                           Concedida     22/07/2014  \n",
       "\n",
       "[13510 rows x 93 columns]>"
      ]
     },
     "execution_count": 7,
     "metadata": {},
     "output_type": "execute_result"
    }
   ],
   "source": [
    "integradas = pd.read_excel('Licencias_Terrazas_Integradas.xlsx')\n"
   ]
  },
  {
   "cell_type": "code",
   "execution_count": 11,
   "metadata": {},
   "outputs": [
    {
     "data": {
      "text/plain": [
       "Index(['id_terraza', 'id_local', 'id_distrito_local', 'desc_distrito_local',\n",
       "       'id_barrio_local', 'desc_barrio_local', 'id_ndp_edificio',\n",
       "       'id_vial_edificio', 'clase_vial_edificio', 'desc_vial_edificio',\n",
       "       'num_edificio', 'Cod_Postal', 'coordenada_x_local',\n",
       "       'coordenada_y_local', 'id_tipo_acceso_local', 'desc_tipo_acceso_local',\n",
       "       'id_situacion_local', 'desc_situacion_local', 'secuencial_local_PC',\n",
       "       'id_planta_agrupado', 'rotulo', 'id_periodo_terraza',\n",
       "       'desc_periodo_terraza', 'id_situacion_terraza',\n",
       "       'desc_situacion_terraza', 'Superficie_ES', 'Superficie_RA',\n",
       "       'Fecha_confir_ult_decreto_resol', 'id_ndp_terraza', 'ID_VIAL',\n",
       "       'DESC_CLASE', 'DESC_NOMBRE', 'num_terraza', 'cal_terraza',\n",
       "       'desc_ubicacion_terraza', 'hora_ini_LJ_es', 'hora_fin_LJ_es',\n",
       "       'hora_ini_LJ_ra', 'hora_fin_LJ_ra', 'hora_ini_VS_es', 'hora_fin_VS_es',\n",
       "       'hora_ini_VS_ra', 'hora_fin_VS_ra', 'mesas_aux_es', 'mesas_aux_ra',\n",
       "       'mesas_es', 'mesas_ra', 'sillas_es', 'sillas_ra'],\n",
       "      dtype='object')"
      ]
     },
     "execution_count": 11,
     "metadata": {},
     "output_type": "execute_result"
    }
   ],
   "source": [
    "Terrazas_202104 = ( pd.read_excel('Terrazas_202104.xlsx'))\n",
    "Terrazas_202104.columns"
   ]
  },
  {
   "cell_type": "code",
   "execution_count": 14,
   "metadata": {},
   "outputs": [
    {
     "name": "stdout",
     "output_type": "stream",
     "text": [
      "Barrio con mayor superficie agregada:\n",
      "desc_barrio_local    SOL                 \n",
      "Superficie_ES                     5817.65\n",
      "Name: 112, dtype: object\n",
      "\n",
      "Barrio con menor superficie agregada:\n",
      "desc_barrio_local    AEROPUERTO          \n",
      "Superficie_ES                       41.28\n",
      "Name: 3, dtype: object\n"
     ]
    }
   ],
   "source": [
    "\n",
    "# Agregar superficies por barrio\n",
    "superficies_por_barrio = Terrazas_202104.groupby('desc_barrio_local')['Superficie_ES'].sum().reset_index()\n",
    "\n",
    "# Documentar áreas con mayor y menor superficie agregada (por barrio)\n",
    "barrio_max_superficie = superficies_por_barrio.loc[superficies_por_barrio['Superficie_ES'].idxmax()]\n",
    "barrio_min_superficie = superficies_por_barrio.loc[superficies_por_barrio['Superficie_ES'].idxmin()]\n",
    "\n",
    "print(\"Barrio con mayor superficie agregada:\")\n",
    "print(barrio_max_superficie)\n",
    "\n",
    "print(\"\\nBarrio con menor superficie agregada:\")\n",
    "print(barrio_min_superficie)\n",
    "\n",
    "# Guardar el resultado en un nuevo archivo CSV\n",
    "superficies_por_barrio.to_excel('Superficies_Agregadas.xlsx', index=False)\n",
    "\n"
   ]
  }
 ],
 "metadata": {
  "kernelspec": {
   "display_name": "base",
   "language": "python",
   "name": "python3"
  },
  "language_info": {
   "codemirror_mode": {
    "name": "ipython",
    "version": 3
   },
   "file_extension": ".py",
   "mimetype": "text/x-python",
   "name": "python",
   "nbconvert_exporter": "python",
   "pygments_lexer": "ipython3",
   "version": "3.11.7"
  }
 },
 "nbformat": 4,
 "nbformat_minor": 2
}
