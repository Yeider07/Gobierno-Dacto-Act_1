{
 "cells": [
  {
   "cell_type": "code",
   "execution_count": 1,
   "metadata": {},
   "outputs": [],
   "source": [
    "import pandas as pd\n",
    "\n"
   ]
  },
  {
   "cell_type": "code",
   "execution_count": 3,
   "metadata": {},
   "outputs": [
    {
     "name": "stdout",
     "output_type": "stream",
     "text": [
      "132171\n",
      "Registros eliminados: 265\n"
     ]
    },
    {
     "ename": "",
     "evalue": "",
     "output_type": "error",
     "traceback": [
      "\u001b[1;31mEl kernel se bloqueó al ejecutar código en la celda actual o en una celda anterior. \n",
      "\u001b[1;31mRevise el código de las celdas para identificar una posible causa del error. \n",
      "\u001b[1;31mHaga clic <a href='https://aka.ms/vscodeJupyterKernelCrash'>aquí</a> para obtener más información. \n",
      "\u001b[1;31mVea Jupyter <a href='command:jupyter.viewOutput'>log</a> para obtener más detalles."
     ]
    }
   ],
   "source": [
    "\n",
    "# Cargar el dataset \n",
    "df = pd.read_excel(\"Licencia_002.xlsx\")\n",
    "\n",
    "# Número de registros antes de eliminar duplicados\n",
    "Contar_Original = len(df)\n",
    "print(Contar_Original)\n",
    "\n",
    "# Identificar y eliminar duplicados basados en las columnas 'id_local' y 'ref_licencia'\n",
    "Licencias_SinDuplicados = df.drop_duplicates(subset=['id_local', 'ref_licencia'])\n",
    "\n",
    "# Número de registros después de eliminar duplicados\n",
    "Contar = len(Licencias_SinDuplicados)\n",
    "\n",
    "# Imprimir la cantidad de registros eliminados\n",
    "print(f\"Registros eliminados: {Contar_Original - Contar}\")\n",
    "\n",
    "df.to_excel('Licencias_SinDuplicados.xlsx')"
   ]
  },
  {
   "cell_type": "code",
   "execution_count": 2,
   "metadata": {},
   "outputs": [
    {
     "name": "stdout",
     "output_type": "stream",
     "text": [
      "Cantidad de cambios en la columna '_id': 0\n",
      "Cantidad de cambios en la columna 'title': 431\n",
      "Cantidad de cambios en la columna 'isbn': 42\n",
      "Cantidad de cambios en la columna 'publishedDate': 78\n",
      "Cantidad de cambios en la columna 'thumbnailUrl': 431\n",
      "Cantidad de cambios en la columna 'shortDescription': 431\n",
      "Cantidad de cambios en la columna 'longDescription': 431\n",
      "Cantidad de cambios en la columna 'status': 431\n",
      "Cantidad de cambios en la columna 'authors': 0\n",
      "Cantidad de cambios en la columna 'categories': 0\n",
      "Dataset limpio guardado como 'Books_Limpio.json'.\n"
     ]
    }
   ],
   "source": [
    "import pandas as pd\n",
    "\n",
    "# Cargar el dataset \"Books\" desde un archivo JSON\n",
    "df = pd.read_json(\"books_corrected.json\")\n",
    "\n",
    "# Función para limpiar y normalizar cadenas de texto\n",
    "def limpiar_texto(text):\n",
    "    if isinstance(text, str):  # Verificar que el valor es una cadena\n",
    "        texto_original = text  # Guardar el texto original\n",
    "        text = text.lower()  # Convertir a minúsculas\n",
    "        text = text.strip()  # Eliminar espacios al principio y al final\n",
    "        return texto_original, text  # Retornar tanto el original como el transformado\n",
    "    return text, text  # Para no cadenas, retorna el mismo valor\n",
    "\n",
    "# Almacenar la cantidad de cambios por columna\n",
    "change_counts = {}\n",
    "\n",
    "# Aplicar la función de limpieza a todas las columnas categóricas\n",
    "for col in df.select_dtypes(include=['object']).columns:\n",
    "    original, limpiado = zip(*df[col].apply(limpiar_texto))  # Desempaquetar originales y limpios\n",
    "    df[col] = limpiado  # Actualizar la columna con los valores limpios\n",
    "    # Contar los cambios\n",
    "    change_counts[col] = sum(1 for o, c in zip(original, limpiado) if o != c)\n",
    "\n",
    "# Imprimir la cantidad de cambios realizados\n",
    "for col, count in change_counts.items():\n",
    "    print(f\"Cantidad de cambios en la columna '{col}': {count}\")\n",
    "\n",
    "\n",
    "# Guardar el dataset limpio como \"Books_Limpio.json\"\n",
    "df.to_json(\"Books_Limpio.json\", orient='records', lines=True)\n",
    "\n",
    "print(\"Dataset limpio guardado como 'Books_Limpio.json'.\")"
   ]
  }
 ],
 "metadata": {
  "kernelspec": {
   "display_name": "base",
   "language": "python",
   "name": "python3"
  },
  "language_info": {
   "codemirror_mode": {
    "name": "ipython",
    "version": 3
   },
   "file_extension": ".py",
   "mimetype": "text/x-python",
   "name": "python",
   "nbconvert_exporter": "python",
   "pygments_lexer": "ipython3",
   "version": "3.11.7"
  }
 },
 "nbformat": 4,
 "nbformat_minor": 2
}
